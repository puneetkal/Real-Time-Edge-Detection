{
 "cells": [
  {
   "cell_type": "code",
   "execution_count": 3,
   "metadata": {},
   "outputs": [],
   "source": [
    "import cv2\n",
    "import numpy as np\n",
    "import matplotlib.pyplot as plt"
   ]
  },
  {
   "cell_type": "code",
   "execution_count": null,
   "metadata": {},
   "outputs": [],
   "source": [
    "vid = cv2.VideoCapture(\"visc.MOV\");\n",
    "\n",
    "while True:\n",
    "\n",
    "    ret, img = vid.read()\n",
    "    b, g, r = cv2.split(img.astype(float))\n",
    "\n",
    "    # channel mixing\n",
    "    c1 = -2.12; c2 = 0.245; c3 = 1.359;\n",
    "    isolated = c1*g + c2*b + c3*r; \n",
    "    isolated = np.clip(isolated, 0, 255)\n",
    "    isolated = isolated.astype(img.dtype)\n",
    "    #cv2.imshow(\"mixed channel; before blurring\", isolated)\n",
    "\n",
    "    # gaussian blur\n",
    "    imgblur = cv2.GaussianBlur(isolated, (21,21), 0);\n",
    "    #cv2.imshow(\"After blurring\", imgblur)\n",
    "\n",
    "    # Thresholded the image\n",
    "    ret, imgth = cv2.threshold(imgblur, 80, 255, cv2.THRESH_BINARY)\n",
    "    #cv2.imshow(\"Thresholded image\", imgth)\n",
    "    \n",
    "    edge = cv2.Canny(imgth, 100, 150);\n",
    "    cv2.imshow(\"Edges of the image\", edge);\n",
    "    #cv2.waitKey(0)\n",
    "    cv2.waitKey(1)"
   ]
  }
 ],
 "metadata": {
  "kernelspec": {
   "display_name": "basic",
   "language": "python",
   "name": "python3"
  },
  "language_info": {
   "codemirror_mode": {
    "name": "ipython",
    "version": 3
   },
   "file_extension": ".py",
   "mimetype": "text/x-python",
   "name": "python",
   "nbconvert_exporter": "python",
   "pygments_lexer": "ipython3",
   "version": "3.10.15"
  }
 },
 "nbformat": 4,
 "nbformat_minor": 2
}
